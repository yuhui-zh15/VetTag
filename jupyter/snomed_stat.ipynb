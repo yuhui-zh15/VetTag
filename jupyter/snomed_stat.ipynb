{
 "cells": [
  {
   "cell_type": "code",
   "execution_count": 29,
   "metadata": {},
   "outputs": [
    {
     "name": "stdout",
     "output_type": "stream",
     "text": [
      "1.8520907759130278 8.890121137177976 0 891 0.0\n",
      "5.0125677863733324 1.535774148358018 0 11 5.0\n"
     ]
    }
   ],
   "source": [
    "from collections import defaultdict\n",
    "import numpy as np\n",
    "f = open('/home/yuhuiz/csu/tree.txt')\n",
    "layer = 3\n",
    "father = {}\n",
    "\n",
    "stat1 = defaultdict(int)\n",
    "stat2 = dict()\n",
    "visited = set()\n",
    "for line in f:\n",
    "    line = line.strip()\n",
    "    a, b, c, d = line.split('\\t')\n",
    "    stat1[a] += 1\n",
    "    if b in visited:\n",
    "        continue\n",
    "    visited.add(b)\n",
    "    father[b] = a\n",
    "\n",
    "    e = b\n",
    "    s = [e]\n",
    "    while e in father:\n",
    "        e = father[e]\n",
    "        s.append(e)\n",
    "    stat2[b] = len(s)\n",
    "\n",
    "visited.add('64572001')\n",
    "stat2['64572001'] = 1 # root node (general disease): depth 1\n",
    "for i in visited:\n",
    "    if i not in stat1:\n",
    "        stat1[i] = 0 # leaf node: branch 0\n",
    "\n",
    "# stat1: branch, stat2: depth\n",
    "print np.mean(stat1.values()), np.std(stat1.values()), np.min(stat1.values()), np.max(stat1.values()), np.median(stat1.values())\n",
    "print np.mean(stat2.values()) - 1, np.std(stat2.values()), np.min(stat2.values()) - 1, np.max(stat2.values()) - 1, np.median(stat2.values()) - 1"
   ]
  },
  {
   "cell_type": "code",
   "execution_count": null,
   "metadata": {},
   "outputs": [],
   "source": []
  }
 ],
 "metadata": {
  "kernelspec": {
   "display_name": "Python 2",
   "language": "python",
   "name": "python2"
  },
  "language_info": {
   "codemirror_mode": {
    "name": "ipython",
    "version": 2
   },
   "file_extension": ".py",
   "mimetype": "text/x-python",
   "name": "python",
   "nbconvert_exporter": "python",
   "pygments_lexer": "ipython2",
   "version": "2.7.12"
  }
 },
 "nbformat": 4,
 "nbformat_minor": 2
}
