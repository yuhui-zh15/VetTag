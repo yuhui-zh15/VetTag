{
 "cells": [
  {
   "cell_type": "code",
   "execution_count": 1,
   "metadata": {},
   "outputs": [],
   "source": [
    "import sys\n",
    "sys.path.append('/home/yuhuiz/Transformer')\n",
    "import torch\n",
    "import torch.nn as nn\n",
    "from torch.autograd import Variable\n",
    "from transformer import *\n",
    "from util import *\n",
    "from data import *\n",
    "import matplotlib.pyplot as plt\n",
    "from heatmap import html_heatmap\n",
    "from IPython.display import display, HTML"
   ]
  },
  {
   "cell_type": "code",
   "execution_count": 2,
   "metadata": {},
   "outputs": [],
   "source": [
    "train, valid, test = get_dis('/home/yuhuiz/Transformer/data/csu/', 'csu_bpe', 'csu', 600, False)\n",
    "text_encoder = TextEncoder('/home/yuhuiz/Transformer/data/sage/encoder_bpe_50000.json', '/home/yuhuiz/Transformer/data/sage/vocab_50000.bpe')\n",
    "encoder = text_encoder.encoder\n",
    "encoder['_pad_'] = len(encoder)\n",
    "encoder['_start_'] = len(encoder)\n",
    "encoder['_end_'] = len(encoder)\n",
    "encoder['_unk_'] = len(encoder)\n",
    "decoder = {v: k for k, v in encoder.items()}\n",
    "\n",
    "for split in ['s1']:\n",
    "    for data_type in ['train', 'valid', 'test']:\n",
    "        num_sents = []\n",
    "        y_sents = []\n",
    "        for sent in eval(data_type)[split]:\n",
    "            num_sent = text_encoder.encode([sent], lazy=True, bpe=False)[0]\n",
    "            num_sents.append([encoder['_start_']] + num_sent + [encoder['_end_']])\n",
    "        eval(data_type)[split] = np.array(num_sents)"
   ]
  },
  {
   "cell_type": "code",
   "execution_count": 3,
   "metadata": {},
   "outputs": [],
   "source": [
    "# good example [(16, 39), (47, 26), (21, 38), (21, 40), ]\n",
    "def interpret_transformer(sample_idx, label_idx, silent=True, threshold=None):\n",
    "    # model\n",
    "    model = torch.load('//transformer_auxiliary_pretrain/model-8.pickle', map_location='cpu')\n",
    "    model.eval()\n",
    "\n",
    "    s1 = test['s1'] # test or valid\n",
    "    target = test['label'] # test or valid\n",
    "\n",
    "    # data\n",
    "    s1_batch = pad_batch(s1[sample_idx:sample_idx+1], encoder['_pad_'])\n",
    "    label_batch = target[sample_idx:sample_idx+1]\n",
    "    b = Batch(s1_batch, label_batch, [], encoder['_pad_'])\n",
    "\n",
    "    # interpret\n",
    "    x = model.tgt_embed[0](b.s1)\n",
    "    xx = model.tgt_embed[1](x)\n",
    "    u_h = model.decoder(xx, b.s1_mask)\n",
    "    u = model.pick_h(u_h, b.s1_lengths)\n",
    "    picked_s1_mask = model.pick_mask(b.s1_mask, b.s1_lengths)\n",
    "    u = model.projection_layer(u, u_h, u_h, picked_s1_mask)\n",
    "    clf_output = model.classifier(u)\n",
    "    pred = (torch.sigmoid(clf_output) > 0.5)\n",
    "    y = clf_output[0][label_idx]\n",
    "    model.zero_grad()\n",
    "    grad = x * torch.autograd.grad(y, x)[0]\n",
    "\n",
    "    # visualize\n",
    "    grad = grad.sum(-1).data.squeeze().numpy()\n",
    "    if threshold != None:\n",
    "        grad = grad * (grad > threshold)\n",
    "    grad = grad.tolist()\n",
    "    \n",
    "    text_id = b.s1.squeeze().numpy().tolist()\n",
    "    text = [decoder[i] for i in text_id]\n",
    "    label = get_labels('csu')\n",
    "    if not silent:\n",
    "        print('logits =', clf_output.squeeze())\n",
    "        print('pred =', pred.squeeze().nonzero().squeeze().numpy().tolist())\n",
    "        print('pred =', [label[i] for i in pred.squeeze().nonzero().squeeze().numpy().tolist()])\n",
    "        print('label =', b.label.squeeze().nonzero().squeeze().numpy().tolist())\n",
    "        print('label =', [label[i] for i in b.label.squeeze().nonzero().squeeze().numpy().tolist()])\n",
    "    display(HTML(html_heatmap(text[1:], grad[1:])))\n",
    "    return grad[1:]"
   ]
  },
  {
   "cell_type": "code",
   "execution_count": 4,
   "metadata": {},
   "outputs": [],
   "source": [
    "def interpret_lstm(sample_idx, label_idx, silent=True):\n",
    "    # model\n",
    "    model = torch.load('/home/yuhuiz/Transformer/exp/bpe/lstm_auxiliary_pretrain/model-8.pickle', map_location='cpu')\n",
    "    model.eval()\n",
    "\n",
    "    s1 = test['s1'] # test or valid\n",
    "    target = test['label'] # test or valid\n",
    "\n",
    "    # data\n",
    "    s1_batch = pad_batch(s1[sample_idx:sample_idx+1], encoder['_pad_'])\n",
    "    label_batch = target[sample_idx:sample_idx+1]\n",
    "    b = Batch(s1_batch, label_batch, [], encoder['_pad_'])\n",
    "\n",
    "    # interpret\n",
    "    x = model.tgt_embed[0](b.s1)\n",
    "    xx = model.tgt_embed[1](x)\n",
    "    u_h = model.autolen_rnn(xx, b.s1_lengths)\n",
    "    u = model.pick_h(u_h, b.s1_lengths)\n",
    "    picked_s1_mask = model.pick_mask(b.s1_mask, b.s1_lengths)\n",
    "    u = model.projection_layer(u, u_h, u_h, picked_s1_mask)\n",
    "    clf_output = model.classifier(u)\n",
    "    pred = (torch.sigmoid(clf_output) > 0.5)\n",
    "    y = clf_output[0][label_idx]\n",
    "    model.zero_grad()\n",
    "    grad = x * torch.autograd.grad(y, x)[0]\n",
    "\n",
    "    # visualize\n",
    "    grad = grad.sum(-1).data.squeeze().numpy().tolist()\n",
    "    text_id = b.s1.squeeze().numpy().tolist()\n",
    "    text = [decoder[i] for i in text_id]\n",
    "    label = get_labels('csu')\n",
    "    if not silent:\n",
    "        print('logits =', clf_output.squeeze())\n",
    "        print('pred =', pred.squeeze().nonzero().squeeze().numpy().tolist())\n",
    "        print('pred =', [label[i] for i in pred.squeeze().nonzero().squeeze().numpy().tolist()])\n",
    "        print('label =', b.label.squeeze().nonzero().squeeze().numpy().tolist())\n",
    "        print('label =', [label[i] for i in b.label.squeeze().nonzero().squeeze().numpy().tolist()])\n",
    "    display(HTML(html_heatmap(text[1:], grad[1:])))"
   ]
  },
  {
   "cell_type": "code",
   "execution_count": 5,
   "metadata": {
    "scrolled": false
   },
   "outputs": [
    {
     "ename": "FileNotFoundError",
     "evalue": "[Errno 2] No such file or directory: '/home/yuhuiz/Transformer/exp/bpe/transformer_auxiliary_pretrain/model-8.pickle'",
     "output_type": "error",
     "traceback": [
      "\u001b[0;31m---------------------------------------------------------------------------\u001b[0m",
      "\u001b[0;31mFileNotFoundError\u001b[0m                         Traceback (most recent call last)",
      "\u001b[0;32m<ipython-input-5-6f3546f76add>\u001b[0m in \u001b[0;36m<module>\u001b[0;34m()\u001b[0m\n\u001b[1;32m      1\u001b[0m \u001b[0;31m# [9]\u001b[0m\u001b[0;34m\u001b[0m\u001b[0;34m\u001b[0m\u001b[0m\n\u001b[0;32m----> 2\u001b[0;31m \u001b[0mgrad\u001b[0m \u001b[0;34m=\u001b[0m \u001b[0minterpret_transformer\u001b[0m\u001b[0;34m(\u001b[0m\u001b[0;36m271\u001b[0m\u001b[0;34m,\u001b[0m \u001b[0;36m28\u001b[0m\u001b[0;34m,\u001b[0m \u001b[0msilent\u001b[0m\u001b[0;34m=\u001b[0m\u001b[0;32mFalse\u001b[0m\u001b[0;34m,\u001b[0m \u001b[0mthreshold\u001b[0m\u001b[0;34m=\u001b[0m\u001b[0;32mNone\u001b[0m\u001b[0;34m)\u001b[0m\u001b[0;34m\u001b[0m\u001b[0m\n\u001b[0m\u001b[1;32m      3\u001b[0m \u001b[0mprint\u001b[0m\u001b[0;34m(\u001b[0m\u001b[0mgrad\u001b[0m\u001b[0;34m)\u001b[0m\u001b[0;34m\u001b[0m\u001b[0m\n\u001b[1;32m      4\u001b[0m \u001b[0;31m# interpret_lstm(47, 26, silent=False)\u001b[0m\u001b[0;34m\u001b[0m\u001b[0;34m\u001b[0m\u001b[0m\n",
      "\u001b[0;32m<ipython-input-3-3d2a69c80b1e>\u001b[0m in \u001b[0;36minterpret_transformer\u001b[0;34m(sample_idx, label_idx, silent, threshold)\u001b[0m\n\u001b[1;32m      2\u001b[0m \u001b[0;32mdef\u001b[0m \u001b[0minterpret_transformer\u001b[0m\u001b[0;34m(\u001b[0m\u001b[0msample_idx\u001b[0m\u001b[0;34m,\u001b[0m \u001b[0mlabel_idx\u001b[0m\u001b[0;34m,\u001b[0m \u001b[0msilent\u001b[0m\u001b[0;34m=\u001b[0m\u001b[0;32mTrue\u001b[0m\u001b[0;34m,\u001b[0m \u001b[0mthreshold\u001b[0m\u001b[0;34m=\u001b[0m\u001b[0;32mNone\u001b[0m\u001b[0;34m)\u001b[0m\u001b[0;34m:\u001b[0m\u001b[0;34m\u001b[0m\u001b[0m\n\u001b[1;32m      3\u001b[0m     \u001b[0;31m# model\u001b[0m\u001b[0;34m\u001b[0m\u001b[0;34m\u001b[0m\u001b[0m\n\u001b[0;32m----> 4\u001b[0;31m     \u001b[0mmodel\u001b[0m \u001b[0;34m=\u001b[0m \u001b[0mtorch\u001b[0m\u001b[0;34m.\u001b[0m\u001b[0mload\u001b[0m\u001b[0;34m(\u001b[0m\u001b[0;34m'/home/yuhuiz/Transformer/exp/bpe/transformer_auxiliary_pretrain/model-8.pickle'\u001b[0m\u001b[0;34m,\u001b[0m \u001b[0mmap_location\u001b[0m\u001b[0;34m=\u001b[0m\u001b[0;34m'cpu'\u001b[0m\u001b[0;34m)\u001b[0m\u001b[0;34m\u001b[0m\u001b[0m\n\u001b[0m\u001b[1;32m      5\u001b[0m     \u001b[0mmodel\u001b[0m\u001b[0;34m.\u001b[0m\u001b[0meval\u001b[0m\u001b[0;34m(\u001b[0m\u001b[0;34m)\u001b[0m\u001b[0;34m\u001b[0m\u001b[0m\n\u001b[1;32m      6\u001b[0m \u001b[0;34m\u001b[0m\u001b[0m\n",
      "\u001b[0;32m/usr/local/lib/python3.6/dist-packages/torch/serialization.py\u001b[0m in \u001b[0;36mload\u001b[0;34m(f, map_location, pickle_module)\u001b[0m\n\u001b[1;32m    354\u001b[0m             \u001b[0;34m(\u001b[0m\u001b[0msys\u001b[0m\u001b[0;34m.\u001b[0m\u001b[0mversion_info\u001b[0m\u001b[0;34m[\u001b[0m\u001b[0;36m0\u001b[0m\u001b[0;34m]\u001b[0m \u001b[0;34m==\u001b[0m \u001b[0;36m3\u001b[0m \u001b[0;32mand\u001b[0m \u001b[0misinstance\u001b[0m\u001b[0;34m(\u001b[0m\u001b[0mf\u001b[0m\u001b[0;34m,\u001b[0m \u001b[0mpathlib\u001b[0m\u001b[0;34m.\u001b[0m\u001b[0mPath\u001b[0m\u001b[0;34m)\u001b[0m\u001b[0;34m)\u001b[0m\u001b[0;34m:\u001b[0m\u001b[0;34m\u001b[0m\u001b[0m\n\u001b[1;32m    355\u001b[0m         \u001b[0mnew_fd\u001b[0m \u001b[0;34m=\u001b[0m \u001b[0;32mTrue\u001b[0m\u001b[0;34m\u001b[0m\u001b[0m\n\u001b[0;32m--> 356\u001b[0;31m         \u001b[0mf\u001b[0m \u001b[0;34m=\u001b[0m \u001b[0mopen\u001b[0m\u001b[0;34m(\u001b[0m\u001b[0mf\u001b[0m\u001b[0;34m,\u001b[0m \u001b[0;34m'rb'\u001b[0m\u001b[0;34m)\u001b[0m\u001b[0;34m\u001b[0m\u001b[0m\n\u001b[0m\u001b[1;32m    357\u001b[0m     \u001b[0;32mtry\u001b[0m\u001b[0;34m:\u001b[0m\u001b[0;34m\u001b[0m\u001b[0m\n\u001b[1;32m    358\u001b[0m         \u001b[0;32mreturn\u001b[0m \u001b[0m_load\u001b[0m\u001b[0;34m(\u001b[0m\u001b[0mf\u001b[0m\u001b[0;34m,\u001b[0m \u001b[0mmap_location\u001b[0m\u001b[0;34m,\u001b[0m \u001b[0mpickle_module\u001b[0m\u001b[0;34m)\u001b[0m\u001b[0;34m\u001b[0m\u001b[0m\n",
      "\u001b[0;31mFileNotFoundError\u001b[0m: [Errno 2] No such file or directory: '/home/yuhuiz/Transformer/exp/bpe/transformer_auxiliary_pretrain/model-8.pickle'"
     ]
    }
   ],
   "source": [
    "# [9]\n",
    "grad = interpret_transformer(271, 28, silent=False, threshold=None)\n",
    "print(grad)\n",
    "# interpret_lstm(47, 26, silent=False)"
   ]
  },
  {
   "cell_type": "code",
   "execution_count": null,
   "metadata": {},
   "outputs": [],
   "source": []
  }
 ],
 "metadata": {
  "kernelspec": {
   "display_name": "Python 3",
   "language": "python",
   "name": "python3"
  },
  "language_info": {
   "codemirror_mode": {
    "name": "ipython",
    "version": 3
   },
   "file_extension": ".py",
   "mimetype": "text/x-python",
   "name": "python",
   "nbconvert_exporter": "python",
   "pygments_lexer": "ipython3",
   "version": "3.6.6"
  }
 },
 "nbformat": 4,
 "nbformat_minor": 2
}
