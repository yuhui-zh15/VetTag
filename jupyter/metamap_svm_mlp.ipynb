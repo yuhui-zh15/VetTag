{
 "cells": [
  {
   "cell_type": "code",
   "execution_count": 11,
   "metadata": {},
   "outputs": [],
   "source": [
    "import numpy as np\n",
    "from sklearn import linear_model\n",
    "from sklearn import svm\n",
    "from sklearn import neural_network\n",
    "from sklearn.multiclass import OneVsRestClassifier\n",
    "import json\n",
    "from sklearn import metrics"
   ]
  },
  {
   "cell_type": "code",
   "execution_count": 7,
   "metadata": {},
   "outputs": [],
   "source": [
    "meta2id = json.load(open('/home/yuhuiz/Transformer/data/meta2id.json'))\n",
    "metalen = len(meta2id)"
   ]
  },
  {
   "cell_type": "code",
   "execution_count": 8,
   "metadata": {},
   "outputs": [],
   "source": [
    "def get_labels(filename):\n",
    "    label_size = 4577\n",
    "    all = []\n",
    "    with open(filename) as fin:\n",
    "        for line in fin:\n",
    "            one = np.zeros(label_size)\n",
    "            splitline = line.strip().split('\\t')\n",
    "            if len(splitline) == 2:\n",
    "                for i in map(int, splitline[1].split()):\n",
    "                    one[i] = 1\n",
    "            all.append(one)\n",
    "    return np.array(all)"
   ]
  },
  {
   "cell_type": "code",
   "execution_count": 9,
   "metadata": {},
   "outputs": [],
   "source": [
    "def get_metas(filename):\n",
    "    meta_size = 57235\n",
    "    all = []\n",
    "    with open(filename) as fin:\n",
    "        for line in fin:\n",
    "            one = np.zeros(meta_size)\n",
    "            splitline = line.strip().split()\n",
    "            for i in splitline:\n",
    "                if i in meta2id:\n",
    "                    one[meta2id[i]] += 1\n",
    "            all.append(one)\n",
    "    return np.array(all)"
   ]
  },
  {
   "cell_type": "code",
   "execution_count": 10,
   "metadata": {},
   "outputs": [],
   "source": [
    "csu_train_X = get_metas('/home/yuhuiz/Transformer/data/csu/csu_metamap_train.tsv')\n",
    "csu_train_Y = get_labels('/home/yuhuiz/Transformer/data/csu/csu_bpe_finegrained_train.tsv')\n",
    "csu_test_X = get_metas('/home/yuhuiz/Transformer/data/csu/csu_metamap_test.tsv')\n",
    "csu_test_Y = get_labels('/home/yuhuiz/Transformer/data/csu/csu_bpe_finegrained_test.tsv')\n",
    "pp_test_X = get_metas('/home/yuhuiz/Transformer/data/pp/pp_metamap_test.tsv')\n",
    "pp_test_Y = get_labels('/home/yuhuiz/Transformer/data/pp/pp_bpe_finegrained_test.tsv')"
   ]
  },
  {
   "cell_type": "code",
   "execution_count": 14,
   "metadata": {},
   "outputs": [],
   "source": [
    "# clf = OneVsRestClassifier(svm.LinearSVC())\n",
    "clf = OneVsRestClassifier(neural_network.MLPClassifier())"
   ]
  },
  {
   "cell_type": "markdown",
   "metadata": {},
   "source": [
    "We only train 100 cases for example"
   ]
  },
  {
   "cell_type": "code",
   "execution_count": null,
   "metadata": {},
   "outputs": [],
   "source": [
    "clf.fit(csu_train_X[:100], csu_train_Y[:100])"
   ]
  },
  {
   "cell_type": "code",
   "execution_count": 24,
   "metadata": {},
   "outputs": [
    {
     "name": "stderr",
     "output_type": "stream",
     "text": [
      "/home/yuhuiz/.local/lib/python2.7/site-packages/sklearn/metrics/classification.py:1143: UndefinedMetricWarning: Precision and F-score are ill-defined and being set to 0.0 in labels with no predicted samples.\n",
      "  'precision', 'predicted', average, warn_for)\n",
      "/home/yuhuiz/.local/lib/python2.7/site-packages/sklearn/metrics/classification.py:1145: UndefinedMetricWarning: Recall and F-score are ill-defined and being set to 0.0 in labels with no true samples.\n",
      "  'recall', 'true', average, warn_for)\n"
     ]
    }
   ],
   "source": [
    "csu_test_pred_Y = clf.predict(csu_test_X[:100])\n",
    "em = metrics.accuracy_score(csu_test_Y[:100], csu_test_pred_Y)\n",
    "p, r, f1, s = metrics.precision_recall_fscore_support(csu_test_Y[:100], csu_test_pred_Y, average='weighted')\n",
    "print em, p, r, f1"
   ]
  },
  {
   "cell_type": "code",
   "execution_count": 26,
   "metadata": {},
   "outputs": [
    {
     "name": "stdout",
     "output_type": "stream",
     "text": [
      "0.0 0.25800904625214616 0.1888263317453443 0.18920838718835306\n"
     ]
    }
   ],
   "source": [
    "pp_test_pred_Y = clf.predict(pp_test_X[:100])\n",
    "em = metrics.accuracy_score(pp_test_Y[:100], pp_test_pred_Y)\n",
    "p, r, f1, s = metrics.precision_recall_fscore_support(pp_test_Y[:100], pp_test_pred_Y, average='weighted')\n",
    "print em, p, r, f1"
   ]
  },
  {
   "cell_type": "code",
   "execution_count": null,
   "metadata": {},
   "outputs": [],
   "source": []
  }
 ],
 "metadata": {
  "kernelspec": {
   "display_name": "Python 2",
   "language": "python",
   "name": "python2"
  },
  "language_info": {
   "codemirror_mode": {
    "name": "ipython",
    "version": 2
   },
   "file_extension": ".py",
   "mimetype": "text/x-python",
   "name": "python",
   "nbconvert_exporter": "python",
   "pygments_lexer": "ipython2",
   "version": "2.7.12"
  }
 },
 "nbformat": 4,
 "nbformat_minor": 2
}
