{
 "cells": [
  {
   "cell_type": "markdown",
   "metadata": {},
   "source": [
    "## Initialize: read data and generate essential data structures"
   ]
  },
  {
   "cell_type": "code",
   "execution_count": 39,
   "metadata": {},
   "outputs": [],
   "source": [
    "import numpy as np\n",
    "import json\n",
    "from collections import defaultdict\n",
    "from sklearn import metrics\n",
    "import pandas as pd\n",
    "\n",
    "labels42 = json.load(open('/home/yuhuiz/Transformer/data/csu/snomed_labels.json'))\n",
    "labels = json.load(open('/home/yuhuiz/Transformer/data/csu/snomed_fine_grained_labels.json'))\n",
    "label2id = dict((j, i) for i, j in enumerate(labels))\n",
    "names = json.load(open('/home/yuhuiz/Transformer/data/csu/snomed_fine_grained_labels_to_name.json'))"
   ]
  },
  {
   "cell_type": "code",
   "execution_count": 40,
   "metadata": {},
   "outputs": [
    {
     "name": "stdout",
     "output_type": "stream",
     "text": [
      "6.0125677863733324\n"
     ]
    }
   ],
   "source": [
    "f = open('/home/yuhuiz/csu/tree.txt')\n",
    "father = {}\n",
    "label2depth = dict()\n",
    "visited = set()\n",
    "for line in f:\n",
    "    line = line.strip()\n",
    "    a, b, c, d = line.split('\\t')\n",
    "    if b in visited:\n",
    "        continue\n",
    "    visited.add(b)\n",
    "    father[b] = a\n",
    "    e = b\n",
    "    s = [e]\n",
    "    while e in father:\n",
    "        e = father[e]\n",
    "        s.append(e)\n",
    "    label2depth[b] = len(s)\n",
    "label2depth['64572001'] = 1\n",
    "print np.mean(label2depth.values())"
   ]
  },
  {
   "cell_type": "code",
   "execution_count": 41,
   "metadata": {},
   "outputs": [],
   "source": [
    "x = defaultdict(list)\n",
    "y = []\n",
    "y_reverse = []\n",
    "for i, label in enumerate(labels):\n",
    "    if label in labels42: y.append(i)\n",
    "    else: y_reverse.append(i)\n",
    "    x[label2depth.get(label, -1)].append(i)"
   ]
  },
  {
   "cell_type": "code",
   "execution_count": 42,
   "metadata": {
    "scrolled": false
   },
   "outputs": [
    {
     "name": "stdout",
     "output_type": "stream",
     "text": [
      "404684003\n"
     ]
    }
   ],
   "source": [
    "# Clinical finding not in 4577 labels!\n",
    "for k in labels42:\n",
    "    if k not in labels:\n",
    "        print k"
   ]
  },
  {
   "cell_type": "markdown",
   "metadata": {},
   "source": [
    "## VetTag : performance on 41 diseases (original 42 diseases except Clinical Finding)"
   ]
  },
  {
   "cell_type": "code",
   "execution_count": 43,
   "metadata": {},
   "outputs": [],
   "source": [
    "def process_preds(preds):\n",
    "    parents = json.load(open('/home/yuhuiz/Transformer/data/parents.json')) # {child_did: parent_did, ..}\n",
    "    id2label = json.load(open('/home/yuhuiz/Transformer/data/labels.json')) # [did1, ..]\n",
    "    label2id = dict([(j, i) for i, j in enumerate(id2label)])\n",
    "    for i in range(preds.shape[0]): \n",
    "        last_pred_i = preds[i].copy()\n",
    "        while True:\n",
    "            for j in range(preds.shape[1]):\n",
    "                did = id2label[j]\n",
    "                flag = True\n",
    "                now = did\n",
    "                while now in parents:\n",
    "                    now = parents[now]\n",
    "                    if now not in label2id: break\n",
    "                    if preds[i, label2id[now]] == 0:\n",
    "                        flag = False\n",
    "                        break\n",
    "                if not flag: \n",
    "                    preds[i, j] = 0.\n",
    "            if (preds[i] == last_pred_i).all(): break\n",
    "            last_pred_i = preds[i].copy()\n",
    "    return preds"
   ]
  },
  {
   "cell_type": "code",
   "execution_count": 44,
   "metadata": {},
   "outputs": [
    {
     "name": "stdout",
     "output_type": "stream",
     "text": [
      "0.2615493958777541 0.09215017064846416\n"
     ]
    }
   ],
   "source": [
    "goldens_csu = np.load('/home/yuhuiz/Transformer/data/csu/finegrained_labels.npy')\n",
    "goldens_pp = np.load('/home/yuhuiz/Transformer/data/pp/finegrained_labels.npy')\n",
    "preds_csu = (np.load('/home/yuhuiz/Transformer/exp/analysis/pp/taph.csu2.npy') > 0.5).astype(float)\n",
    "preds_pp = (np.load('/home/yuhuiz/Transformer/exp/analysis/pp/taph.pp2.npy') > 0.5).astype(float)\n",
    "preds_csu = process_preds(preds_csu)\n",
    "preds_pp = process_preds(preds_pp)\n",
    "em_csu = metrics.accuracy_score(goldens_csu, preds_csu)\n",
    "em_pp = metrics.accuracy_score(goldens_pp, preds_pp)\n",
    "\n",
    "print em_csu, em_pp"
   ]
  },
  {
   "cell_type": "code",
   "execution_count": 45,
   "metadata": {},
   "outputs": [
    {
     "name": "stdout",
     "output_type": "stream",
     "text": [
      "\tEM\tP\tR\tF1\n",
      "TAPF\t0.493\t0.798\t0.691\t0.736\n"
     ]
    }
   ],
   "source": [
    "print'\\tEM\\tP\\tR\\tF1'\n",
    "goldens_ = goldens_csu[:, y]\n",
    "preds_ = preds_csu[:, y]\n",
    "em = metrics.accuracy_score(goldens_, preds_)\n",
    "p, r, f1, s = metrics.precision_recall_fscore_support(goldens_, preds_, average='weighted')\n",
    "print 'TAPF\\t%.3f\\t%.3f\\t%.3f\\t%.3f' % (em, p, r, f1)"
   ]
  },
  {
   "cell_type": "code",
   "execution_count": 46,
   "metadata": {},
   "outputs": [
    {
     "name": "stdout",
     "output_type": "stream",
     "text": [
      "\tEM\tP\tR\tF1\n",
      "TAPF\t0.232\t0.612\t0.510\t0.538\n"
     ]
    }
   ],
   "source": [
    "print'\\tEM\\tP\\tR\\tF1'\n",
    "goldens_ = goldens_pp[:, y]\n",
    "preds_ = preds_pp[:, y]\n",
    "em = metrics.accuracy_score(goldens_, preds_)\n",
    "p, r, f1, s = metrics.precision_recall_fscore_support(goldens_, preds_, average='weighted')\n",
    "print 'TAPF\\t%.3f\\t%.3f\\t%.3f\\t%.3f' % (em, p, r, f1)"
   ]
  },
  {
   "cell_type": "markdown",
   "metadata": {},
   "source": [
    "## VetTag: how hierachical loss improve the result?"
   ]
  },
  {
   "cell_type": "code",
   "execution_count": 49,
   "metadata": {},
   "outputs": [
    {
     "name": "stdout",
     "output_type": "stream",
     "text": [
      "P\tR\tF1\tP\tR\tF1\n",
      "0.744\t0.598\t0.648\t0.721\t0.631\t0.662\n",
      "Depth\tNumber\tF1\tP\tR\tEM\tF1\tP\tR\tEM\n",
      "1\t56\t76.2\t81.8\t74.1\t51.3\t76.6\t83.8\t72.9\t52.7\n",
      "2\t299\t73.3\t79.1\t70.0\t35.9\t73.8\t78.3\t71.3\t38.9\n",
      "3\t632\t66.9\t75.9\t61.1\t31.0\t68.1\t72.9\t65.1\t33.3\n",
      "4\t1086\t62.6\t73.3\t56.7\t33.7\t63.9\t69.7\t60.9\t33.8\n",
      "5\t1298\t55.6\t68.4\t49.8\t45.8\t57.7\t65.2\t54.2\t44.1\n",
      "6\t804\t45.2\t62.7\t39.7\t68.2\t49.4\t59.2\t45.7\t65.5\n",
      "7\t283\t37.9\t54.7\t31.1\t90.2\t45.3\t56.1\t43.3\t89.7\n",
      "8\t66\t19.7\t41.9\t14.4\t97.4\t31.7\t44.1\t31.5\t97.4\n",
      "9\t6\t0.0\t0.0\t0.0\t100.0\t0.0\t0.0\t0.0\t100.0\n",
      "10\t2\t0.0\t0.0\t0.0\t100.0\t0.0\t0.0\t0.0\t100.0\n"
     ]
    }
   ],
   "source": [
    "preds = (np.load('/home/yuhuiz/Transformer/exp/analysis/pp/tap.csu.npy') > 0.5).astype(float)\n",
    "p1, r1, f11, s1 = metrics.precision_recall_fscore_support(goldens_csu, preds, average='weighted')\n",
    "p2, r2, f12, s2 = metrics.precision_recall_fscore_support(goldens_csu, preds_csu, average='weighted')\n",
    "print 'P\\tR\\tF1\\tP\\tR\\tF1'\n",
    "print '%.3f\\t%.3f\\t%.3f\\t%.3f\\t%.3f\\t%.3f' % (p1, r1, f11, p2, r2, f12)\n",
    "\n",
    "print 'Depth\\tNumber\\tF1\\tP\\tR\\tEM\\tF1\\tP\\tR\\tEM'\n",
    "for i in range(1, 13):\n",
    "    goldens_ = goldens_csu[:, x[i]]\n",
    "    if goldens_.shape[1] == 0: continue\n",
    "    \n",
    "    preds_ = preds[:, x[i]]\n",
    "    em1 = metrics.accuracy_score(goldens_, preds_)\n",
    "    p1, r1, f11, s1 = metrics.precision_recall_fscore_support(goldens_, preds_, average='weighted')\n",
    "    \n",
    "    preds_ = preds_csu[:, x[i]]\n",
    "    em2 = metrics.accuracy_score(goldens_, preds_)\n",
    "    p2, r2, f12, s2 = metrics.precision_recall_fscore_support(goldens_, preds_, average='weighted')\n",
    "    \n",
    "    print '%d\\t%d\\t%.1f\\t%.1f\\t%.1f\\t%.1f\\t%.1f\\t%.1f\\t%.1f\\t%.1f' % (i - 1, goldens_.shape[1], 100*f11, 100*p1, 100*r1, 100*em1, 100*f12, 100*p2, 100*r2, 100*em2)  "
   ]
  },
  {
   "cell_type": "code",
   "execution_count": 50,
   "metadata": {},
   "outputs": [
    {
     "name": "stdout",
     "output_type": "stream",
     "text": [
      "P\tR\tF1\tP\tR\tF1\n",
      "0.531\t0.427\t0.450\t0.549\t0.477\t0.486\n",
      "Depth\tNumber\tF1\tP\tR\tEM\tF1\tP\tR\tEM\n",
      "1\t56\t57.8\t61.8\t57.2\t26.8\t57.7\t67.6\t54.9\t25.3\n",
      "2\t299\t52.4\t56.3\t52.0\t13.8\t55.5\t58.7\t56.5\t15.0\n",
      "3\t632\t46.0\t54.5\t42.4\t14.2\t50.2\t55.6\t49.8\t11.9\n",
      "4\t1086\t43.4\t54.7\t39.3\t16.9\t46.9\t54.1\t45.2\t14.5\n",
      "5\t1298\t28.3\t38.7\t26.9\t25.8\t33.4\t42.2\t31.3\t24.6\n",
      "6\t804\t16.1\t28.6\t17.7\t58.9\t22.9\t28.7\t21.6\t54.3\n",
      "7\t283\t10.9\t10.3\t13.0\t86.5\t14.9\t24.3\t14.5\t86.3\n",
      "8\t66\t18.2\t50.0\t11.1\t95.1\t0.0\t0.0\t0.0\t97.8\n",
      "9\t6\t0.0\t0.0\t0.0\t98.6\t0.0\t0.0\t0.0\t100.0\n",
      "10\t2\t0.0\t0.0\t0.0\t98.8\t0.0\t0.0\t0.0\t100.0\n"
     ]
    }
   ],
   "source": [
    "preds = (np.load('/home/yuhuiz/Transformer/exp/analysis/pp/tap.pp.npy') > 0.5).astype(float)\n",
    "p1, r1, f11, s1 = metrics.precision_recall_fscore_support(goldens_pp, preds, average='weighted')\n",
    "p2, r2, f12, s2 = metrics.precision_recall_fscore_support(goldens_pp, preds_pp, average='weighted')\n",
    "print 'P\\tR\\tF1\\tP\\tR\\tF1'\n",
    "print '%.3f\\t%.3f\\t%.3f\\t%.3f\\t%.3f\\t%.3f' % (p1, r1, f11, p2, r2, f12)\n",
    "\n",
    "print 'Depth\\tNumber\\tF1\\tP\\tR\\tEM\\tF1\\tP\\tR\\tEM'\n",
    "for i in range(1, 13):\n",
    "    goldens_ = goldens_pp[:, x[i]]\n",
    "    if goldens_.shape[1] == 0: continue\n",
    "    \n",
    "    preds_ = preds[:, x[i]]\n",
    "    em1 = metrics.accuracy_score(goldens_, preds_)\n",
    "    p1, r1, f11, s1 = metrics.precision_recall_fscore_support(goldens_, preds_, average='weighted')\n",
    "    \n",
    "    preds_ = preds_pp[:, x[i]]\n",
    "    em2 = metrics.accuracy_score(goldens_, preds_)\n",
    "    p2, r2, f12, s2 = metrics.precision_recall_fscore_support(goldens_, preds_, average='weighted')\n",
    "    \n",
    "    print '%d\\t%d\\t%.1f\\t%.1f\\t%.1f\\t%.1f\\t%.1f\\t%.1f\\t%.1f\\t%.1f' % (i - 1, goldens_.shape[1], 100*f11, 100*p1, 100*r1, 100*em1, 100*f12, 100*p2, 100*r2, 100*em2)  "
   ]
  },
  {
   "cell_type": "markdown",
   "metadata": {},
   "source": [
    "## How many diseases in different depths and what they are?"
   ]
  },
  {
   "cell_type": "code",
   "execution_count": 51,
   "metadata": {},
   "outputs": [
    {
     "name": "stdout",
     "output_type": "stream",
     "text": [
      "101301 5628 5628 586\n"
     ]
    }
   ],
   "source": [
    "csu_label_train = []\n",
    "with open('/home/yuhuiz/Transformer/data/csu/csu_bpe_finegrained_train.tsv') as fin:\n",
    "    for line in fin:\n",
    "        splitline = line.strip().split('\\t')\n",
    "        csu_label_train.append([] if len(splitline) == 1 else map(int, splitline[1].split()))\n",
    "        \n",
    "csu_label_valid = []\n",
    "with open('/home/yuhuiz/Transformer/data/csu/csu_bpe_finegrained_valid.tsv') as fin:\n",
    "    for line in fin:\n",
    "        splitline = line.strip().split('\\t')\n",
    "        csu_label_valid.append([] if len(splitline) == 1 else map(int, splitline[1].split()))\n",
    "        \n",
    "csu_label_test = []\n",
    "with open('/home/yuhuiz/Transformer/data/csu/csu_bpe_finegrained_test.tsv') as fin:\n",
    "    for line in fin:\n",
    "        splitline = line.strip().split('\\t')\n",
    "        csu_label_test.append([] if len(splitline) == 1 else map(int, splitline[1].split()))\n",
    "        \n",
    "pp_label_test = []\n",
    "with open('/home/yuhuiz/Transformer/data/pp/pp_bpe_finegrained_test.tsv') as fin:\n",
    "    for line in fin:\n",
    "        splitline = line.strip().split('\\t')\n",
    "        pp_label_test.append([] if len(splitline) == 1 else map(int, splitline[1].split()))\n",
    "\n",
    "print len(csu_label_train), len(csu_label_valid), len(csu_label_test), len(pp_label_test)"
   ]
  },
  {
   "cell_type": "code",
   "execution_count": 52,
   "metadata": {},
   "outputs": [],
   "source": [
    "disease2cnt_csu = defaultdict(int)\n",
    "\n",
    "for s in csu_label_train + csu_label_valid + csu_label_test:\n",
    "    for d in s:\n",
    "        disease2cnt_csu[d] += 1\n",
    "        \n",
    "disease2cnt_pp = defaultdict(int)\n",
    "\n",
    "for s in pp_label_test:\n",
    "    for d in s:\n",
    "        disease2cnt_pp[d] += 1"
   ]
  },
  {
   "cell_type": "code",
   "execution_count": 53,
   "metadata": {},
   "outputs": [
    {
     "name": "stdout",
     "output_type": "stream",
     "text": [
      "\n",
      "\n",
      "84832\t91.1\t90.4\t91.8\t86.6\t461\t82.9\t84.3\t81.6\t73.5\tDisease by body site (disorder)\n",
      "36108\t90.5\t93.0\t88.1\t94.0\t59\t48.5\t37.3\t69.5\t85.2\tNeoplasm and/or hamartoma\n",
      "25271\t72.3\t77.4\t67.8\t88.6\t193\t64.0\t72.8\t57.0\t78.8\tInflammatory disorder (disorder)\n",
      "11304\t59.5\t69.6\t52.1\t92.7\t88\t42.2\t67.5\t30.7\t87.4\tInfectious disease (disorder)\n",
      "9722\t46.5\t73.3\t34.0\t93.5\t38\t27.5\t53.8\t18.4\t93.7\tDegenerative disorder (disorder)\n",
      "\n",
      "79365\t89.5\t88.3\t90.8\t85.2\t459\t82.8\t84.5\t81.0\t73.5\tDisorder of body system (disorder)\n",
      "36237\t75.4\t78.1\t73.0\t85.1\t205\t65.1\t56.9\t76.1\t71.5\tDisorder of soft tissue (disorder)\n",
      "36095\t90.5\t93.0\t88.1\t94.0\t59\t48.5\t37.3\t69.5\t85.2\tNeoplasm\n",
      "35398\t77.9\t77.0\t78.8\t86.1\t147\t55.9\t53.0\t59.2\t76.6\tDisease of trunk (disorder)\n",
      "31524\t87.2\t88.6\t85.8\t93.0\t28\t25.5\t15.7\t67.9\t81.1\tNeoplasm by body site (disorder)\n",
      "\n",
      "28058\t91.1\t93.0\t89.2\t95.6\t19\t51.5\t36.2\t89.5\t94.5\tMalignant tumor (disorder)\n",
      "23911\t71.8\t70.8\t72.9\t88.1\t190\t66.1\t65.5\t66.8\t77.8\tInflammation of specific body systems (disorder)\n",
      "22589\t70.5\t75.6\t66.0\t89.3\t195\t58.9\t68.2\t51.8\t75.9\tDisease of digestive system, NOS\n",
      "22531\t71.9\t71.1\t72.7\t88.9\t170\t66.1\t64.6\t67.6\t79.9\tInflammation of specific body organs (disorder)\n",
      "21052\t76.4\t79.0\t74.0\t91.7\t156\t68.1\t64.2\t72.4\t81.9\tDisorder of integument (disorder)\n",
      "\n",
      "20215\t73.2\t71.3\t75.2\t90.2\t90\t44.2\t46.3\t42.2\t83.6\tDisease of abdomen (disorder)\n",
      "19136\t67.6\t70.3\t65.1\t89.7\t177\t55.3\t62.4\t49.7\t75.8\tDisease of digestive organ (disorder)\n",
      "18986\t75.7\t72.5\t79.0\t91.6\t144\t66.3\t58.9\t75.7\t81.1\tDisease of skin (disorder)\n",
      "18070\t82.8\t85.6\t80.1\t94.6\t5\t7.1\t4.3\t20.0\t95.6\tPrimary malignant neoplasm\n",
      "17997\t71.0\t74.8\t67.5\t91.7\t184\t59.7\t68.8\t52.7\t77.6\tDisease of digestive tract (disorder)\n",
      "\n",
      "11316\t64.8\t68.8\t61.3\t93.7\t154\t56.9\t65.0\t50.6\t79.9\tDisease of upper digestive tract, NOS\n",
      "9265\t70.1\t73.9\t66.7\t95.7\t33\t29.4\t28.6\t30.3\t91.8\tDisease of gastrointestinal tract (disorder)\n",
      "7638\t79.9\t77.4\t82.6\t97.1\t38\t58.2\t56.1\t60.5\t94.4\tDisorder of anterior segment of eye (disorder)\n",
      "7164\t71.5\t70.2\t72.8\t96.3\t2\t8.0\t4.3\t50.0\t96.1\tNeoplasm of intra-abdominal organs (disorder)\n",
      "6311\t68.4\t70.1\t66.7\t96.7\t23\t23.8\t26.3\t21.7\t94.5\tDisease of lower gastrointestinal tract (disorder)\n",
      "\n",
      "4595\t81.8\t82.1\t81.4\t98.5\t11\t22.9\t16.7\t36.4\t95.4\tConstitutional eczema (disorder)\n",
      "4518\t77.8\t72.4\t84.0\t97.9\t21\t58.5\t60.0\t57.1\t97.1\tKeratopathy\n",
      "3133\t69.3\t71.3\t67.4\t98.5\t0\t0.0\t0.0\t0.0\t99.7\tPulmonary neoplasia\n",
      "2834\t48.9\t53.4\t45.1\t98.0\t4\t26.7\t18.2\t50.0\t98.1\tDisease of upper gastrointestinal tract (disorder)\n",
      "2789\t51.3\t62.2\t43.6\t97.9\t27\t12.1\t33.3\t7.4\t95.1\tKidney disease (disorder)\n",
      "\n",
      "2621\t74.4\t73.1\t75.7\t98.7\t9\t52.6\t50.0\t55.6\t98.5\tCorneal lesion (disorder)\n",
      "1300\t45.2\t52.0\t40.0\t98.9\t6\t46.2\t42.9\t50.0\t98.8\tDisease of colon (disorder)\n",
      "968\t53.1\t81.2\t39.4\t99.6\t1\t0.0\t0.0\t0.0\t99.7\tDisorder of iris (disorder)\n",
      "912\t56.7\t65.5\t50.0\t99.5\t1\t100.0\t100.0\t100.0\t100.0\tRetinal disorder (disorder)\n",
      "541\t31.6\t46.2\t24.0\t99.5\t26\t6.9\t33.3\t3.8\t95.4\tRenal insufficiency\n",
      "\n",
      "517\t10.8\t25.0\t6.9\t99.4\t0\t0.0\t0.0\t0.0\t100.0\tDisorder of vitreous body (disorder)\n",
      "415\t52.6\t71.4\t41.7\t99.8\t0\t0.0\t0.0\t0.0\t99.8\tLesion of iris\n",
      "369\t0.0\t0.0\t0.0\t99.7\t0\t0.0\t0.0\t0.0\t99.8\tGlomerulopathy\n",
      "258\t77.8\t87.5\t70.0\t99.9\t0\t0.0\t0.0\t0.0\t99.7\tCorneal neovascularization (disorder)\n",
      "245\t35.7\t100.0\t21.7\t99.7\t0\t0.0\t0.0\t0.0\t99.8\tImpairment level of both eyes (disorder)\n",
      "\n",
      "38\t0.0\t0.0\t0.0\t100.0\t0\t0.0\t0.0\t0.0\t100.0\tBundle branch block (disorder)\n",
      "14\t0.0\t0.0\t0.0\t100.0\t0\t0.0\t0.0\t0.0\t100.0\tPolycystic kidney disease\n",
      "11\t0.0\t0.0\t0.0\t100.0\t0\t0.0\t0.0\t0.0\t100.0\tHymenoptera sting\n",
      "1\t0.0\t0.0\t0.0\t100.0\t0\t0.0\t0.0\t0.0\t100.0\tNephrotic syndrome, NOS\n",
      "1\t0.0\t0.0\t0.0\t100.0\t0\t0.0\t0.0\t0.0\t100.0\tIntussusception of colon (disorder)\n",
      "\n",
      "8\t0.0\t0.0\t0.0\t100.0\t0\t0.0\t0.0\t0.0\t100.0\tMonofascicular block (disorder)\n",
      "1\t0.0\t0.0\t0.0\t100.0\t0\t0.0\t0.0\t0.0\t100.0\tNephrotic syndrome in diseases EC (disorder)\n",
      "\n"
     ]
    }
   ],
   "source": [
    "for i in range(1, 13):\n",
    "    print\n",
    "    ds = {}\n",
    "    for d in x[i]:\n",
    "        ds[d] = disease2cnt_csu[d]\n",
    "    for item in sorted(ds.items(), key=lambda x:x[1], reverse=True)[:5]:\n",
    "        did = int(item[0])\n",
    "        \n",
    "        goldens_csu_ = goldens_csu[:, [did, 0]]\n",
    "        preds_csu_ = preds_csu[:, [did, 0]]\n",
    "        em_csu = metrics.accuracy_score(goldens_csu_[:, 0], preds_csu_[:, 0])\n",
    "        p_csu, r_csu, f1_csu, s_csu = metrics.precision_recall_fscore_support(goldens_csu_, preds_csu_, average=None)\n",
    "        goldens_pp_ = goldens_pp[:, [did, 0]]\n",
    "        preds_pp_ = preds_pp[:, [did, 0]]\n",
    "        em_pp = metrics.accuracy_score(goldens_pp_[:, 0], preds_pp_[:, 0])\n",
    "        p_pp, r_pp, f1_pp, s_pp = metrics.precision_recall_fscore_support(goldens_pp_, preds_pp_, average=None)\n",
    "\n",
    "        print '%d\\t%.1f\\t%.1f\\t%.1f\\t%.1f\\t%d\\t%.1f\\t%.1f\\t%.1f\\t%.1f\\t%s' % (disease2cnt_csu[did], 100*f1_csu[0], 100*p_csu[0], 100*r_csu[0], 100*em_csu, disease2cnt_pp[did], 100*f1_pp[0], 100*p_pp[0], 100*r_pp[0], 100*em_pp, names[did])  "
   ]
  },
  {
   "cell_type": "code",
   "execution_count": 54,
   "metadata": {},
   "outputs": [
    {
     "name": "stdout",
     "output_type": "stream",
     "text": [
      "defaultdict(<type 'int'>, {2: 91109, 3: 90880, 4: 89856, 5: 85783, 6: 70242, 7: 46250, 8: 12994, 9: 2918, 10: 66, 11: 9})\n",
      "defaultdict(<type 'int'>, {2: 497, 3: 495, 4: 489, 5: 462, 6: 389, 7: 216, 8: 68, 9: 9})\n"
     ]
    }
   ],
   "source": [
    "depth2cnt_csu = defaultdict(int)\n",
    "for i in range(1, 13):\n",
    "    for s in csu_label_train + csu_label_valid + csu_label_test:\n",
    "        for d in s:\n",
    "            if d in x[i]:\n",
    "                depth2cnt_csu[i] += 1\n",
    "                break\n",
    "        \n",
    "depth2cnt_pp = defaultdict(int)\n",
    "for i in range(1, 13):\n",
    "    for s in pp_label_test:\n",
    "        for d in s:\n",
    "            if d in x[i]:\n",
    "                depth2cnt_pp[i] += 1\n",
    "                break\n",
    "                \n",
    "print depth2cnt_csu\n",
    "\n",
    "print depth2cnt_pp"
   ]
  },
  {
   "cell_type": "markdown",
   "metadata": {},
   "source": [
    "## Performance by species"
   ]
  },
  {
   "cell_type": "code",
   "execution_count": 55,
   "metadata": {},
   "outputs": [
    {
     "name": "stdout",
     "output_type": "stream",
     "text": [
      "[84276, 40905, 94532, 102121, 75567, 20282, 19212, 97220, 90601, 15321]\n"
     ]
    }
   ],
   "source": [
    "import json\n",
    "examples = csu_species_freq = json.load(open('/home/yuhuiz/csu/species/csu_species_freq.json'))\n",
    "np.random.seed(1234)\n",
    "train_size = 0.9\n",
    "split_proportions = {\n",
    "    \"train\": train_size,\n",
    "    \"valid\": (1 - train_size) / 2,\n",
    "    \"test\": (1 - train_size) / 2\n",
    "}\n",
    "serial_numbers = range(len(examples))\n",
    "np.random.shuffle(serial_numbers)\n",
    "\n",
    "train_numbers = serial_numbers[:int(np.rint(len(examples) * split_proportions['train']))]\n",
    "valid_numbers = serial_numbers[\n",
    "    int(np.rint(len(examples) * split_proportions['train'])): \\\n",
    "    int(np.rint(len(examples) * (split_proportions['train'] + split_proportions['valid'])))]\n",
    "test_numbers = serial_numbers[int(np.rint(len(examples) * (split_proportions['train'] + split_proportions['valid']))):]\n",
    "print test_numbers[:10]"
   ]
  },
  {
   "cell_type": "code",
   "execution_count": 56,
   "metadata": {},
   "outputs": [],
   "source": [
    "test_csu_species = [csu_species_freq[i] for i in test_numbers]"
   ]
  },
  {
   "cell_type": "code",
   "execution_count": null,
   "metadata": {},
   "outputs": [],
   "source": [
    "species2id = defaultdict(list)\n",
    "for i, j in enumerate(test_csu_species):\n",
    "    species2id[j].append(i)"
   ]
  },
  {
   "cell_type": "code",
   "execution_count": null,
   "metadata": {},
   "outputs": [
    {
     "name": "stdout",
     "output_type": "stream",
     "text": [
      "CSU\n",
      "SPECIES\t#\tEM\tP\tR\tF1\n",
      "CAPRINE\t21\t0.381\t0.368\t0.450\t0.395\n"
     ]
    }
   ],
   "source": [
    "print 'CSU'\n",
    "print 'SPECIES\\t#\\tEM\\tP\\tR\\tF1'  \n",
    "for i in species2id:\n",
    "    goldens_csu_ = goldens_csu[species2id[i]]\n",
    "    preds_csu_ = preds_csu[species2id[i]]\n",
    "    em = metrics.accuracy_score(goldens_csu_, preds_csu_)\n",
    "    p, r, f1, s = metrics.precision_recall_fscore_support(goldens_csu_, preds_csu_, average='weighted')\n",
    "    print '%s\\t%d\\t%.3f\\t%.3f\\t%.3f\\t%.3f' % (i, len(species2id[i]), em, p, r, f1)  "
   ]
  },
  {
   "cell_type": "code",
   "execution_count": null,
   "metadata": {
    "scrolled": true
   },
   "outputs": [],
   "source": [
    "pp_species2id = defaultdict(list)\n",
    "for i, j in enumerate(json.load(open('/home/yuhuiz/csu/species/pp_species_freq.json'))):\n",
    "    pp_species2id[j].append(i)"
   ]
  },
  {
   "cell_type": "code",
   "execution_count": null,
   "metadata": {},
   "outputs": [],
   "source": [
    "print 'PP'\n",
    "print 'SPECIES\\t#\\tEM\\tP\\tR\\tF1'  \n",
    "for i in pp_species2id:\n",
    "    goldens_pp_ = goldens_pp[pp_species2id[i]]\n",
    "    preds_pp_ = preds_pp[pp_species2id[i]]\n",
    "    em = metrics.accuracy_score(goldens_pp_, preds_pp_)\n",
    "    p, r, f1, s = metrics.precision_recall_fscore_support(goldens_pp_, preds_pp_, average='weighted')\n",
    "    print '%s\\t%d\\t%.3f\\t%.3f\\t%.3f\\t%.3f' % (i, len(pp_species2id[i]), em, p, r, f1)  "
   ]
  },
  {
   "cell_type": "code",
   "execution_count": null,
   "metadata": {},
   "outputs": [],
   "source": []
  }
 ],
 "metadata": {
  "kernelspec": {
   "display_name": "Python 2",
   "language": "python",
   "name": "python2"
  },
  "language_info": {
   "codemirror_mode": {
    "name": "ipython",
    "version": 2
   },
   "file_extension": ".py",
   "mimetype": "text/x-python",
   "name": "python",
   "nbconvert_exporter": "python",
   "pygments_lexer": "ipython2",
   "version": "2.7.12"
  }
 },
 "nbformat": 4,
 "nbformat_minor": 2
}
