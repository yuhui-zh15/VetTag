{
 "cells": [
  {
   "cell_type": "markdown",
   "metadata": {},
   "source": [
    "# Species / Breed Statistics"
   ]
  },
  {
   "cell_type": "code",
   "execution_count": 10,
   "metadata": {},
   "outputs": [],
   "source": [
    "import pandas as pd"
   ]
  },
  {
   "cell_type": "code",
   "execution_count": 11,
   "metadata": {},
   "outputs": [],
   "source": [
    "invoice = pd.read_csv('/home/yuhuiz/csu/species/invoice.csv', sep='\\t', low_memory=False)"
   ]
  },
  {
   "cell_type": "code",
   "execution_count": 12,
   "metadata": {},
   "outputs": [],
   "source": [
    "final_csu = pd.read_csv('/home/yuhuiz/csu/species/final_csu_file_snomed', sep='\\t', low_memory=False)"
   ]
  },
  {
   "cell_type": "code",
   "execution_count": 13,
   "metadata": {},
   "outputs": [],
   "source": [
    "snomed_id_to_name = {}\n",
    "with open('/home/yuhuiz/csu/species/combined_desc.txt') as f:\n",
    "    for i, line in enumerate(f):\n",
    "        tups = line.split('\\t')\n",
    "        snomed_id_to_name[tups[4]] = tups[7]"
   ]
  },
  {
   "cell_type": "code",
   "execution_count": 14,
   "metadata": {},
   "outputs": [],
   "source": [
    "species_id_to_name = {}\n",
    "with open('/home/yuhuiz/csu/species/sno_species.csv') as f:\n",
    "    for i, line in enumerate(f):\n",
    "        if i == 0:\n",
    "            continue\n",
    "        tups = line.split(',')\n",
    "        species_id_to_name[tups[0]] = tups[2].strip()"
   ]
  },
  {
   "cell_type": "code",
   "execution_count": 15,
   "metadata": {},
   "outputs": [
    {
     "data": {
      "text/plain": [
       "{'125090003': 'BOVINE',\n",
       " '125083008': 'EQUINE',\n",
       " '125088004': 'PORCINE',\n",
       " '125100005': 'OVINE',\n",
       " '125098005': 'CAPRINE',\n",
       " '125079008': 'CANINE',\n",
       " '125081005': 'FELINE',\n",
       " '0': 'MAMMAL'}"
      ]
     },
     "execution_count": 15,
     "metadata": {},
     "output_type": "execute_result"
    }
   ],
   "source": [
    "species_id_to_name"
   ]
  },
  {
   "cell_type": "code",
   "execution_count": 16,
   "metadata": {},
   "outputs": [],
   "source": [
    "breed_id_to_name = {}\n",
    "with open('/home/yuhuiz/csu/species/sno_breed.csv') as f:\n",
    "    for i, line in enumerate(f):\n",
    "        if i == 0:\n",
    "            continue\n",
    "        tups = line.split(',')\n",
    "        breed_id_to_name[tups[2]] = tups[3].strip().lower()"
   ]
  },
  {
   "cell_type": "code",
   "execution_count": 17,
   "metadata": {},
   "outputs": [
    {
     "data": {
      "text/plain": [
       "{'300004': 'minsch',\n",
       " '507002': 'stdpdl',\n",
       " '1514007': 'bdlter',\n",
       " '2062007': 'dach',\n",
       " '3347005': 'ddter',\n",
       " '3674001': 'husky',\n",
       " '3921008': 'ardale',\n",
       " '5306005': 'manter',\n",
       " '5916008': 'dalm',\n",
       " '6103004': 'jrterr',\n",
       " '8351009': '',\n",
       " '9528004': 'f-cret',\n",
       " '9761009': 'chi',\n",
       " '10040000': 'pom',\n",
       " '10369004': 'briard',\n",
       " '10842007': 'ibizhd',\n",
       " '11477006': 'irset',\n",
       " '11746005': 'auheel',\n",
       " '12091005': 'britsp',\n",
       " '12131006': 'minpin',\n",
       " '12390000': 'stfter',\n",
       " '13248002': 'chbret',\n",
       " '13284009': 'yorkie',\n",
       " '13942005': 'mantty',\n",
       " '14245006': 'rottwr',\n",
       " '14876008': 'phrhnd',\n",
       " '17663009': 'tibter',\n",
       " '19078005': 'collie',\n",
       " '21039009': 'puli',\n",
       " '21150005': 'skipke',\n",
       " '21418008': 'engcoc',\n",
       " '22697009': 'cocker',\n",
       " '23995009': 'bulter',\n",
       " '24299002': 'skye',\n",
       " '25171009': 'rbhnd',\n",
       " '25243005': 'toypdl',\n",
       " '25264009': 'gwpont',\n",
       " '26229008': 'tollng',\n",
       " '26639007': 'tfxter',\n",
       " '27385008': 'fldspn',\n",
       " '27444002': 'belter',\n",
       " '27615007': 'dane',\n",
       " '28751008': 'chow',\n",
       " '30347000': 'itgrhd',\n",
       " '31077009': 'shihtz',\n",
       " '31281003': 'rthnd',\n",
       " '31392000': 'eskimo',\n",
       " '31971008': 'amwtsp',\n",
       " '32591006': 'kerryt',\n",
       " '32670005': 'pyren',\n",
       " '33401005': 'wpgrif',\n",
       " '33458006': 'bernse',\n",
       " '34752004': 'selyhm',\n",
       " '34870009': 'irwsp',\n",
       " '35802007': 'foxter',\n",
       " '36274006': '',\n",
       " '36438004': 'lhasa',\n",
       " '36611001': 'lhchih',\n",
       " '37116003': 'belmal',\n",
       " '38184008': 'engbul',\n",
       " '38449002': 'c-cret',\n",
       " '39348004': 'malt',\n",
       " '39882003': 'silky',\n",
       " '40121001': 'minpdl',\n",
       " '40400008': 'plthnd',\n",
       " '40727008': 'whwter',\n",
       " '40898002': 'welspr',\n",
       " '41263004': 'papiln',\n",
       " '41320000': 'basset',\n",
       " '41538003': 'bichon',\n",
       " '42250008': 'boxer',\n",
       " '42252000': 'gshep',\n",
       " '44696006': 'beagle',\n",
       " '45561005': 'cnhnd',\n",
       " '46239008': 'komdor',\n",
       " '46725009': 'corgip',\n",
       " '47075006': 'dobe',\n",
       " '47542005': 'pbgv',\n",
       " '47659007': 'bsenji',\n",
       " '47699005': 'scwt',\n",
       " '48524002': 'mastif',\n",
       " '49421002': 'welter',\n",
       " '50125003': 'shetie',\n",
       " '52105008': 'vizsla',\n",
       " '52253003': 'nwfdld',\n",
       " '52946002': 'affpin',\n",
       " '52952001': 'irwolf',\n",
       " '53228008': 'mlmute',\n",
       " '53922000': 'japnsp',\n",
       " '54858000': 'deerhd',\n",
       " '55959002': 'bthnd',\n",
       " '57120006': 'wlkhnd',\n",
       " '57849000': 'gorset',\n",
       " '57947002': 'gntsch',\n",
       " '58108001': 'golret',\n",
       " '58116005': 'otrhnd',\n",
       " '59492009': 'lhdach',\n",
       " '59528003': 'saluki',\n",
       " '59643008': 'frbull',\n",
       " '59975009': 'engfhd',\n",
       " '60252000': 'pug',\n",
       " '60517007': 'corgi',\n",
       " '61405001': 'scotty',\n",
       " '62137007': 'lab',\n",
       " '62228004': 'engsps',\n",
       " '62790004': 'norter',\n",
       " '63390008': 'h20dog',\n",
       " '66495005': 'ckcspn',\n",
       " '66712005': 'bodfln',\n",
       " '67088002': 'engtsp',\n",
       " '67684001': 'peke',\n",
       " '67977006': 'clumbr',\n",
       " '68014009': 'drahth',\n",
       " '69249004': 'weim',\n",
       " '69474004': 'samyd',\n",
       " '69529009': 'borter',\n",
       " '69592005': 'stdsch',\n",
       " '71175006': 'bulmas',\n",
       " '4608006': 'sugl',\n",
       " '74173000': 'rhodrb',\n",
       " '75494002': 'irter',\n",
       " '75911001': 'bcolie',\n",
       " '76351004': 'whipet',\n",
       " '76724004': 'harier',\n",
       " '76994004': 'elkhnd',\n",
       " '77213006': 'afghan',\n",
       " '78214003': 'lakter',\n",
       " '79295007': 'boster',\n",
       " '80576000': 'sussex',\n",
       " '81529001': 'bldhnd',\n",
       " '81607005': 'keeshd',\n",
       " '83216009': 'stbuzt',\n",
       " '83236005': 'stbrnd',\n",
       " '83504004': 'spitz',\n",
       " '84367001': 'engset',\n",
       " '73318001': 'pontr',\n",
       " '84514002': 'akita',\n",
       " '84548001': 'kuvasz',\n",
       " '84660008': 'klbear',\n",
       " '85144002': 'beldog',\n",
       " '86767001': 'gspont',\n",
       " '87029004': 'oeshdg',\n",
       " '87111007': 'cairn',\n",
       " '87219003': 'tibspn',\n",
       " '88779009': 'amfxhd',\n",
       " '112491001': 'auster',\n",
       " '112492008': 'ruswlf',\n",
       " '112494009': 'gryhnd',\n",
       " '132369002': 'mindch',\n",
       " '132389001': 'munstr',\n",
       " '132392002': 'dogo',\n",
       " '132483004': 'fbrasi',\n",
       " '132492001': 'e-shep',\n",
       " '132500001': 'hovawa',\n",
       " '132501002': 'icshdg',\n",
       " '132510005': '',\n",
       " '132516004': 'ainu',\n",
       " '132519006': 'beaucn',\n",
       " '132521001': 'aushep',\n",
       " '132522008': 'belwlf',\n",
       " '132527002': 'bgrifn',\n",
       " '132531008': 'akbash',\n",
       " '132541006': 'aukelp',\n",
       " '132545002': 'catahl',\n",
       " '132549008': '',\n",
       " '132552000': 'canaan',\n",
       " '132554004': 'chicre',\n",
       " '132556002': 'cichin',\n",
       " '132561000': 'borcol',\n",
       " '132569003': 'braque',\n",
       " '132574006': '',\n",
       " '132580003': 'bayksp',\n",
       " '132587000': 'shiba',\n",
       " '132588005': 'wshdog',\n",
       " '132589002': 'sharpe',\n",
       " '132591005': '',\n",
       " '132595001': '',\n",
       " '132596000': '',\n",
       " '132597009': '',\n",
       " '132598004': '',\n",
       " '132599007': 'neomas',\n",
       " '132607008': 'lowchn',\n",
       " '132608003': '',\n",
       " '132611002': 's-pntr',\n",
       " '132616007': '',\n",
       " '132617003': 'mcnab',\n",
       " '132619000': 'mix',\n",
       " '132621005': 'munlan',\n",
       " '132622003': 'burger',\n",
       " '132633000': 'ttnbrd',\n",
       " '132634006': '',\n",
       " '132642007': 'smtdog',\n",
       " '132643002': 'tibmas',\n",
       " '132644008': 'gimter',\n",
       " '132645009': '',\n",
       " '132646005': 'toyter',\n",
       " '409926004': 'anshep',\n",
       " '1809004': 'rex',\n",
       " '3354004': 'havbrn',\n",
       " '3653002': 'baline',\n",
       " '3995008': 'manx',\n",
       " '4042003': 'somali',\n",
       " '16528000': '',\n",
       " '21637005': 'fsh',\n",
       " '21726001': 'amwire',\n",
       " '24967003': 'oriesh',\n",
       " '26057009': 'esh',\n",
       " '26382003': 'jbt',\n",
       " '27125003': 'korat',\n",
       " '33384004': '',\n",
       " '36074003': 'abby',\n",
       " '40547002': 'lgmanx',\n",
       " '43219001': 'birman',\n",
       " '43529009': 'chartx',\n",
       " '44855006': 'tonk',\n",
       " '50441005': 'angora',\n",
       " '61753003': 'colpt',\n",
       " '63972001': 'ocicat',\n",
       " '65694005': 'siam',\n",
       " '68086001': 'pers',\n",
       " '69855002': 'dsh',\n",
       " '70653001': 'bsh',\n",
       " '73049001': 'fold',\n",
       " '81866001': 'macoon',\n",
       " '84797007': 'blurus',\n",
       " '89065000': 'burmes',\n",
       " '132650003': 'harlq',\n",
       " '132651004': 'manxam',\n",
       " '132652006': 'maltes',\n",
       " '132653001': 'mix',\n",
       " '132654007': 'ragdol',\n",
       " '132655008': 'turvan',\n",
       " '132656009': 'blubrt',\n",
       " '132661006': '',\n",
       " '132672001': '',\n",
       " '132678002': '',\n",
       " '1006005': 'perchr',\n",
       " '1118004': 'viking',\n",
       " '1247002': 'clydes',\n",
       " '1789009': 'trachn',\n",
       " '4288003': 'thb',\n",
       " '4960000': 'prpas',\n",
       " '6220006': 'galicn',\n",
       " '7623008': 'ampnt',\n",
       " '12360007': 'msfoxt',\n",
       " '13487004': 'shire',\n",
       " '21295007': 'morg',\n",
       " '22720009': 'belg',\n",
       " '25369002': 'westph',\n",
       " '25813002': 'holstn',\n",
       " '26837006': 'amcrem',\n",
       " '31633003': 'yorkch',\n",
       " '34200004': 'amtrot',\n",
       " '35354009': 'angarb',\n",
       " '39532001': 'norch',\n",
       " '41092008': 'clvbay',\n",
       " '41738000': 'pal',\n",
       " '41754002': 'lippiz',\n",
       " '42724005': 'amsadl',\n",
       " '45790002': 'amalb',\n",
       " '51023000': 'tennwk',\n",
       " '53567001': 'sufflk',\n",
       " '54098002': 'arab',\n",
       " '54447000': '',\n",
       " '54699009': 'ammin',\n",
       " '55167009': 'appl',\n",
       " '56086005': 'ampaso',\n",
       " '58264006': 'pinto',\n",
       " '66168008': 'hanovr',\n",
       " '70457009': 'icelan',\n",
       " '76302002': 'smstn',\n",
       " '76467006': 'qtr',\n",
       " '80777007': 'andals',\n",
       " '89648005': 'fjord',\n",
       " '90050009': 'ambuck',\n",
       " '112488001': 'hackny',\n",
       " '131985002': '',\n",
       " '132746003': 'hunter',\n",
       " '132989006': '',\n",
       " '132997004': '',\n",
       " '133011008': 'oldnbg',\n",
       " '133063001': 'pony',\n",
       " '133111006': 'fresan',\n",
       " '406721004': 'mixed',\n",
       " '407402001': 'wrmbld',\n",
       " '3260001': 'dur',\n",
       " '4053009': 'cpf#1',\n",
       " '9135003': 'oic',\n",
       " '15443006': 'yuc',\n",
       " '19770007': 'herfrd',\n",
       " '20279000': 'minn#3',\n",
       " '21021000': 'lgblck',\n",
       " '30448006': 'lacomb',\n",
       " '30634003': 'tamwrh',\n",
       " '33551003': 'kyredb',\n",
       " '36187006': 'spottd',\n",
       " '40350000': 'mont#1',\n",
       " '49240006': 'palous',\n",
       " '50859001': 'bltsv2',\n",
       " '51690007': 'md#1',\n",
       " '69461005': 'chestw',\n",
       " '69487005': 'cpf#2',\n",
       " '72122009': 'minn#2',\n",
       " '73648005': 'wesadl',\n",
       " '73944009': 'minn#1',\n",
       " '74568001': 'redwad',\n",
       " '77236002': 'lgwhte',\n",
       " '78678003': 'wildpg',\n",
       " '79814001': 'pchina',\n",
       " '80979001': 'sanpir',\n",
       " '82013003': 'bltsv1',\n",
       " '84528008': 'landrc',\n",
       " '86694007': 'hormel',\n",
       " '112489009': 'berksh',\n",
       " '132025000': 'hamp',\n",
       " '132040003': '',\n",
       " '132230005': 'vpmpig',\n",
       " '400003': 'pinzgr',\n",
       " '944009': 'welbrn',\n",
       " '5345000': 's.g.',\n",
       " '8989009': 'ayrshr',\n",
       " '9277006': '',\n",
       " '13544004': 'bgalow',\n",
       " '16042001': 'beefms',\n",
       " '26105007': 'holst',\n",
       " '26525003': '',\n",
       " '28336001': 'brngus',\n",
       " '28483003': 'sim',\n",
       " '30384003': 'brahmn',\n",
       " '32938007': 'gir',\n",
       " '35229007': 'chiani',\n",
       " '44230005': 'brnsw',\n",
       " '45284002': 'mnanju',\n",
       " '48702000': 'lim',\n",
       " '50959000': 'tarent',\n",
       " '51937006': 'jer',\n",
       " '53031002': 'dexter',\n",
       " '62153005': 'blacqu',\n",
       " '65344003': 'marchi',\n",
       " '66314009': 'lnghrn',\n",
       " '66911005': 'galow',\n",
       " '67448000': 'gflckv',\n",
       " '69510003': 'cattlo',\n",
       " '76497003': 'gelbvi',\n",
       " '76604009': 'nelore',\n",
       " '78541007': 'mlkshh',\n",
       " '83173002': 'schigh',\n",
       " '83996001': 'criolo',\n",
       " '84839000': 'guerns',\n",
       " '84923006': 'ang',\n",
       " '88807001': 'redpol',\n",
       " '90612002': 'salers',\n",
       " '107007004': 'piedmt',\n",
       " '112485003': 'gujara',\n",
       " '125074003': 'her',\n",
       " '125091004': '',\n",
       " '131584009': 'charol',\n",
       " '131590008': 'devon',\n",
       " '132781001': 'senpol',\n",
       " '133244005': 'lnrdsh',\n",
       " '133249000': 'mixbrd',\n",
       " '133258007': 'red&wh',\n",
       " '133418008': 'shhorn',\n",
       " '133471008': 'murgry',\n",
       " '133719001': 'charbr',\n",
       " '684003': 'pygmy',\n",
       " '5438004': 'fr-alp',\n",
       " '9230001': 'camarr',\n",
       " '16015002': 'nub',\n",
       " '21208000': 'saanen',\n",
       " '28360002': 'swalp',\n",
       " '30089001': 'tog',\n",
       " '55530007': 'lamanc',\n",
       " '64158000': 'angora',\n",
       " '74745008': 'rckalp',\n",
       " '125097000': 'capunk',\n",
       " '131607005': 'mixed',\n",
       " '131632007': '',\n",
       " '131685000': 'cham',\n",
       " '2124007': 'ramblt',\n",
       " '3099004': 'romney',\n",
       " '3566006': 'sodown',\n",
       " '4574003': 'shrpsh',\n",
       " '5164003': 'montad',\n",
       " '6431001': 'leicst',\n",
       " '13934009': 'panama',\n",
       " '18596003': '',\n",
       " '25660007': '',\n",
       " '32145006': '',\n",
       " '39855006': 'wilth',\n",
       " '44835005': 'deboul',\n",
       " '45690005': 'moufln',\n",
       " '46392004': 'dmerno',\n",
       " '50717006': 'chevot',\n",
       " '53360003': 'oxford',\n",
       " '59210004': 'navajo',\n",
       " '64591001': 'karakl',\n",
       " '65187008': 'bfhigh',\n",
       " '67414001': 'cotswd',\n",
       " '67515002': 'corrie',\n",
       " '72329005': 'flandr',\n",
       " '72648002': 'suff',\n",
       " '79603002': 'romedl',\n",
       " '82440005': 'hamp',\n",
       " '86920006': 'dorset',\n",
       " '87962009': 'ncchev',\n",
       " '89665001': 'targhe',\n",
       " '112486002': 'tailes',\n",
       " '125099002': 'poldor',\n",
       " '125101009': 'amerno',\n",
       " '131705005': 'col',\n",
       " '131745001': 'lincln',\n",
       " '131777003': 'jacob',\n",
       " '131823008': 'polypa',\n",
       " '131835007': '',\n",
       " '132812007': 'tunis',\n",
       " '406722006': 'mixedb'}"
      ]
     },
     "execution_count": 17,
     "metadata": {},
     "output_type": "execute_result"
    }
   ],
   "source": [
    "breed_id_to_name"
   ]
  },
  {
   "cell_type": "code",
   "execution_count": 18,
   "metadata": {},
   "outputs": [],
   "source": [
    "invoice_number_breed_species_map = {}\n",
    "# {invoice_number: [breed, species]}\n",
    "\n",
    "import csv\n",
    "\n",
    "with open('/home/yuhuiz/csu/species/invoice.csv') as f:\n",
    "    csv_reader = csv.reader(f, delimiter='\\t')\n",
    "    for i, tups in enumerate(csv_reader):\n",
    "        if i == 0:\n",
    "            continue\n",
    "        assert tups[0] not in invoice_number_breed_species_map\n",
    "        invoice_number_breed_species_map[tups[0]] = (species_id_to_name[tups[4]], breed_id_to_name[tups[5]])"
   ]
  },
  {
   "cell_type": "code",
   "execution_count": 20,
   "metadata": {},
   "outputs": [
    {
     "data": {
      "text/plain": [
       "264404"
      ]
     },
     "execution_count": 20,
     "metadata": {},
     "output_type": "execute_result"
    }
   ],
   "source": [
    "len(invoice_number_breed_species_map)"
   ]
  },
  {
   "cell_type": "code",
   "execution_count": 21,
   "metadata": {},
   "outputs": [],
   "source": [
    "from collections import defaultdict\n",
    "\n",
    "species_to_disease = defaultdict(list) # {species: [diseases]}\n",
    "breeds_to_disease = defaultdict(list)\n",
    "\n",
    "species_freq = []\n",
    "breed_freq = []\n",
    "\n",
    "found = 0\n",
    "with open('/home/yuhuiz/csu/species/final_csu_file_snomed') as f:\n",
    "    for line in f:\n",
    "        tups = line.split('\\t')\n",
    "        invoice_number = tups[3]\n",
    "        if invoice_number in invoice_number_breed_species_map:\n",
    "            species, breed = invoice_number_breed_species_map[invoice_number]\n",
    "            diseases = tups[5].split(\"|\")  # actually applied SNOMED codes\n",
    "            species_to_disease[species].extend(diseases)\n",
    "            breeds_to_disease[breed].extend(diseases)\n",
    "            found += 1\n",
    "            species_freq.append(species)\n",
    "            breed_freq.append(breed)"
   ]
  },
  {
   "cell_type": "code",
   "execution_count": 22,
   "metadata": {},
   "outputs": [
    {
     "data": {
      "text/plain": [
       "112557"
      ]
     },
     "execution_count": 22,
     "metadata": {},
     "output_type": "execute_result"
    }
   ],
   "source": [
    "found  # basically everything is in there"
   ]
  },
  {
   "cell_type": "code",
   "execution_count": 23,
   "metadata": {},
   "outputs": [
    {
     "data": {
      "text/plain": [
       "Counter({'CANINE': 86995,\n",
       "         'FELINE': 13181,\n",
       "         'EQUINE': 10155,\n",
       "         'OVINE': 84,\n",
       "         'PORCINE': 386,\n",
       "         'BOVINE': 1240,\n",
       "         'CAPRINE': 372,\n",
       "         'MAMMAL': 144})"
      ]
     },
     "execution_count": 23,
     "metadata": {},
     "output_type": "execute_result"
    }
   ],
   "source": [
    "from collections import Counter\n",
    "Counter(species_freq)"
   ]
  },
  {
   "cell_type": "code",
   "execution_count": 24,
   "metadata": {},
   "outputs": [],
   "source": [
    "import matplotlib.pyplot as plt\n",
    "%matplotlib inline"
   ]
  },
  {
   "cell_type": "code",
   "execution_count": 25,
   "metadata": {},
   "outputs": [
    {
     "data": {
      "text/plain": [
       "<matplotlib.legend.Legend at 0x7f46cad79e10>"
      ]
     },
     "execution_count": 25,
     "metadata": {},
     "output_type": "execute_result"
    },
    {
     "data": {
      "image/png": "[encoded data removed]",
      "text/plain": [
       "<Figure size 432x432 with 1 Axes>"
      ]
     },
     "metadata": {},
     "output_type": "display_data"
    }
   ],
   "source": [
    "import numpy as np\n",
    "\n",
    "def func(pct, allvals):\n",
    "    absolute = int(pct/np.sum(list(allvals.values())))\n",
    "    return \"{:.1f}%\".format(pct, absolute)\n",
    "\n",
    "fig, ax = plt.subplots(figsize=(6, 6), subplot_kw=dict(aspect=\"equal\"))\n",
    "\n",
    "wedges, texts, autotexts = ax.pie(Counter(species_freq).values(), autopct=lambda pct: func(pct, Counter(species_freq)),\n",
    "                                  textprops=dict(color=\"w\"))\n",
    "\n",
    "ax.legend(wedges, list(Counter(species_freq).keys()),\n",
    "          title=\"Species in CSU\",\n",
    "          loc=\"center left\",\n",
    "          bbox_to_anchor=(1, 0, 0.5, 1))"
   ]
  },
  {
   "cell_type": "code",
   "execution_count": 28,
   "metadata": {},
   "outputs": [
    {
     "name": "stdout",
     "output_type": "stream",
     "text": [
      "CANINE 77.29\n",
      "FELINE 11.71\n",
      "EQUINE 9.02\n",
      "OVINE 0.07\n",
      "PORCINE 0.34\n",
      "BOVINE 1.10\n",
      "CAPRINE 0.33\n",
      "MAMMAL 0.13\n"
     ]
    }
   ],
   "source": [
    "for k, v in Counter(species_freq).items():\n",
    "    print(k, \"{:.2f}\".format(v / sum(Counter(species_freq).values()) * 100))"
   ]
  },
  {
   "cell_type": "code",
   "execution_count": 27,
   "metadata": {},
   "outputs": [],
   "source": [
    "species_to_disease_freq = {}\n",
    "for k, l in species_to_disease.items():\n",
    "    species_to_disease_freq[k] = defaultdict(int)\n",
    "    for d in l:\n",
    "        if d.replace('R', '').replace('S', '') in snomed_id_to_name:\n",
    "            name = snomed_id_to_name[d.replace('R', '').replace('S', '')]\n",
    "            if '(disorder)' in name:\n",
    "                species_to_disease_freq[k][name] += 1\n",
    "\n",
    "sorted_species_to_disease_freq = {}\n",
    "for k, freq_dict in species_to_disease_freq.items():\n",
    "    sorted_freq_dict = sorted(freq_dict.items(), key=lambda x: x[1], reverse=True)[:10] # top 10 diseases\n",
    "    sorted_species_to_disease_freq[k] = sorted_freq_dict"
   ]
  },
  {
   "cell_type": "markdown",
   "metadata": {},
   "source": [
    "**PP dataset**"
   ]
  },
  {
   "cell_type": "code",
   "execution_count": 30,
   "metadata": {},
   "outputs": [],
   "source": [
    "import csv\n",
    "\n",
    "pp_species_freq = []\n",
    "pp_breed_freq = []\n",
    "\n",
    "pp_species_to_disease = defaultdict(list) # {species: [diseases]}\n",
    "pp_breeds_to_disease = defaultdict(list)\n",
    "\n",
    "found = 0\n",
    "\n",
    "# with open('./adobe_DJ.csv', encoding='ISO-8859-1') as f:\n",
    "with open('/home/yuhuiz/csu/2018-06-08-Adobe_data_final_snomed_combined.csv', encoding='ISO-8859-1') as f:\n",
    "    csv_reader = csv.reader(f)\n",
    "    for i, line in enumerate(csv_reader):\n",
    "        if i == 0:\n",
    "            continue\n",
    "            \n",
    "        diseases = []\n",
    "        for group in line[19:]:\n",
    "            if group != \"\":\n",
    "                diseases.extend(group.split('|'))\n",
    "                \n",
    "        if len(diseases) > 0:\n",
    "            pp_species_freq.append(line[5])\n",
    "            pp_breed_freq.append(line[6])\n",
    "            \n",
    "            pp_species_to_disease[line[5]].extend(diseases)\n",
    "            pp_breeds_to_disease[line[6]].extend(diseases)\n",
    "            \n",
    "            found += 1"
   ]
  },
  {
   "cell_type": "code",
   "execution_count": 31,
   "metadata": {},
   "outputs": [
    {
     "data": {
      "text/plain": [
       "586"
      ]
     },
     "execution_count": 31,
     "metadata": {},
     "output_type": "execute_result"
    }
   ],
   "source": [
    "found"
   ]
  },
  {
   "cell_type": "code",
   "execution_count": 32,
   "metadata": {},
   "outputs": [
    {
     "name": "stdout",
     "output_type": "stream",
     "text": [
      "Canine \t 425\n",
      "Feline \t 149\n",
      "Cockatiel \t 1\n",
      "Rabbit NOS \t 8\n",
      "Domestic Guinea Pig \t 1\n",
      "Chinchilla NOS \t 1\n",
      "Ferret Sp. \t 1\n"
     ]
    }
   ],
   "source": [
    "for i, j in Counter(pp_species_freq).items():\n",
    "    print(i, '\\t', j)"
   ]
  },
  {
   "cell_type": "code",
   "execution_count": 33,
   "metadata": {},
   "outputs": [
    {
     "name": "stdout",
     "output_type": "stream",
     "text": [
      "Canine 72.53\n",
      "Feline 25.43\n",
      "Cockatiel 0.17\n",
      "Rabbit NOS 1.37\n",
      "Domestic Guinea Pig 0.17\n",
      "Chinchilla NOS 0.17\n",
      "Ferret Sp. 0.17\n"
     ]
    }
   ],
   "source": [
    "for k, v in Counter(pp_species_freq).items():\n",
    "    print(k, \"{:.2f}\".format(v / sum(Counter(pp_species_freq).values()) * 100))"
   ]
  },
  {
   "cell_type": "code",
   "execution_count": 34,
   "metadata": {},
   "outputs": [],
   "source": [
    "pp_species_to_disease_freq = {}\n",
    "for k, l in pp_species_to_disease.items():\n",
    "    pp_species_to_disease_freq[k] = defaultdict(int)\n",
    "    for d in l:\n",
    "        if d.replace('R', '').replace('S', '') in snomed_id_to_name:\n",
    "            name = snomed_id_to_name[d.replace('R', '').replace('S', '')]\n",
    "            if '(disorder)' in name:\n",
    "                pp_species_to_disease_freq[k][name] += 1\n",
    "\n",
    "pp_sorted_species_to_disease_freq = {}\n",
    "for k, pp_freq_dict in pp_species_to_disease_freq.items():\n",
    "    pp_sorted_freq_dict = sorted(pp_freq_dict.items(), key=lambda x: x[1], reverse=True)[:10] # top 10 diseases\n",
    "    pp_sorted_species_to_disease_freq[k] = pp_sorted_freq_dict"
   ]
  },
  {
   "cell_type": "code",
   "execution_count": 36,
   "metadata": {},
   "outputs": [
    {
     "data": {
      "text/plain": [
       "<matplotlib.legend.Legend at 0x7f46cabbd9b0>"
      ]
     },
     "execution_count": 36,
     "metadata": {},
     "output_type": "execute_result"
    },
    {
     "data": {
      "image/png": "[encoded data removed]",
      "text/plain": [
       "<Figure size 432x432 with 1 Axes>"
      ]
     },
     "metadata": {},
     "output_type": "display_data"
    }
   ],
   "source": [
    "import numpy as np\n",
    "\n",
    "def func(pct, allvals):\n",
    "    absolute = int(pct/np.sum(list(allvals.values())))\n",
    "    return \"{:.1f}%\".format(pct, absolute)\n",
    "\n",
    "fig, ax = plt.subplots(figsize=(6, 6), subplot_kw=dict(aspect=\"equal\"))\n",
    "\n",
    "wedges, texts, autotexts = ax.pie(Counter(pp_species_freq).values(), autopct=lambda pct: func(pct, Counter(pp_species_freq)),\n",
    "                                  textprops=dict(color=\"w\"))\n",
    "\n",
    "ax.legend(wedges, list(Counter(pp_species_freq).keys()),\n",
    "          title=\"Species in PP\",\n",
    "          loc=\"center left\",\n",
    "          bbox_to_anchor=(1, 0, 0.5, 1))"
   ]
  },
  {
   "cell_type": "code",
   "execution_count": null,
   "metadata": {},
   "outputs": [],
   "source": []
  }
 ],
 "metadata": {
  "kernelspec": {
   "display_name": "Python 3",
   "language": "python",
   "name": "python3"
  },
  "language_info": {
   "codemirror_mode": {
    "name": "ipython",
    "version": 3
   },
   "file_extension": ".py",
   "mimetype": "text/x-python",
   "name": "python",
   "nbconvert_exporter": "python",
   "pygments_lexer": "ipython3",
   "version": "3.6.6"
  }
 },
 "nbformat": 4,
 "nbformat_minor": 2
}
